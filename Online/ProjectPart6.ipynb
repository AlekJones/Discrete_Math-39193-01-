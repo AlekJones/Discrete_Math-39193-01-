{
  "nbformat": 4,
  "nbformat_minor": 0,
  "metadata": {
    "colab": {
      "name": "Untitled0.ipynb",
      "provenance": [],
      "include_colab_link": true
    },
    "kernelspec": {
      "name": "python3",
      "display_name": "Python 3"
    }
  },
  "cells": [
    {
      "cell_type": "markdown",
      "metadata": {
        "id": "view-in-github",
        "colab_type": "text"
      },
      "source": [
        "<a href=\"https://colab.research.google.com/github/AlekJones/Discrete_Math-39193-01-/blob/main/Online/ProjectPart6.ipynb\" target=\"_parent\"><img src=\"https://colab.research.google.com/assets/colab-badge.svg\" alt=\"Open In Colab\"/></a>"
      ]
    },
    {
      "cell_type": "markdown",
      "metadata": {
        "id": "YCJaepmmfKrS"
      },
      "source": [
        "# Project Part #6 : CPSMA 3133 [Dr. Jacob's](https://github.com/nurfnick) Discrete Mathematics \n",
        "\n",
        "## Numbers\n",
        "\n",
        "### Aleksander Jones\n",
        "\n",
        "\n"
      ]
    },
    {
      "cell_type": "markdown",
      "metadata": {
        "id": "_7RoPTU_hXG1"
      },
      "source": [
        "## Modulo Arithmetic"
      ]
    },
    {
      "cell_type": "markdown",
      "metadata": {
        "id": "MMXFYCZ6hajg"
      },
      "source": [
        "It's modulo time! (#pun) \n",
        "Convert 24036↓7 to base 10."
      ]
    },
    {
      "cell_type": "code",
      "metadata": {
        "id": "5U5T3Fld5X0S",
        "colab": {
          "base_uri": "https://localhost:8080/"
        },
        "outputId": "f4f65f4e-ccda-41fa-a501-6b0f9f905f16"
      },
      "source": [
        "int(\"24036\",7)"
      ],
      "execution_count": 1,
      "outputs": [
        {
          "output_type": "execute_result",
          "data": {
            "text/plain": [
              "6201"
            ]
          },
          "metadata": {},
          "execution_count": 1
        }
      ]
    },
    {
      "cell_type": "markdown",
      "metadata": {
        "id": "f1xnXaYEH_Y3"
      },
      "source": [
        "Convert the hexadecimal number 72e3 to base 10."
      ]
    },
    {
      "cell_type": "code",
      "metadata": {
        "id": "5oqBcutqHu-R",
        "colab": {
          "base_uri": "https://localhost:8080/"
        },
        "outputId": "94382795-83a4-4a56-f29a-763220aea470"
      },
      "source": [
        "int (\"72e3\",16)\n"
      ],
      "execution_count": 2,
      "outputs": [
        {
          "output_type": "execute_result",
          "data": {
            "text/plain": [
              "29411"
            ]
          },
          "metadata": {},
          "execution_count": 2
        }
      ]
    },
    {
      "cell_type": "markdown",
      "metadata": {
        "id": "xnWfzas8IOBh"
      },
      "source": [
        "Not too bad so far."
      ]
    },
    {
      "cell_type": "markdown",
      "source": [
        "Next up is convert 3735928559 to hexadecimal."
      ],
      "metadata": {
        "id": "VVqdbwYqmxOn"
      }
    },
    {
      "cell_type": "code",
      "metadata": {
        "id": "rlczad_4IMkh",
        "colab": {
          "base_uri": "https://localhost:8080/",
          "height": 36
        },
        "outputId": "819ff228-83fe-44cd-a4e4-8eb0268cebf4"
      },
      "source": [
        "hex(3735928559)"
      ],
      "execution_count": 3,
      "outputs": [
        {
          "output_type": "execute_result",
          "data": {
            "text/plain": [
              "'0xdeadbeef'"
            ],
            "application/vnd.google.colaboratory.intrinsic+json": {
              "type": "string"
            }
          },
          "metadata": {},
          "execution_count": 3
        }
      ]
    },
    {
      "cell_type": "markdown",
      "source": [
        "Love to abuse the built in's."
      ],
      "metadata": {
        "id": "tV0sdpXvndvR"
      }
    },
    {
      "cell_type": "markdown",
      "source": [
        "Using two's complement preform the base ten subtraction 25-37."
      ],
      "metadata": {
        "id": "9Pu2H4owqTHI"
      }
    },
    {
      "cell_type": "markdown",
      "source": [
        "First off we should probably convert these to binary."
      ],
      "metadata": {
        "id": "VEb6lwBaqdIk"
      }
    },
    {
      "cell_type": "code",
      "metadata": {
        "id": "StROzXRVIZoY",
        "colab": {
          "base_uri": "https://localhost:8080/",
          "height": 36
        },
        "outputId": "f635a934-57f1-453b-c1fd-02b2b0fb55f3"
      },
      "source": [
        "bin(25)"
      ],
      "execution_count": 5,
      "outputs": [
        {
          "output_type": "execute_result",
          "data": {
            "text/plain": [
              "'0b11001'"
            ],
            "application/vnd.google.colaboratory.intrinsic+json": {
              "type": "string"
            }
          },
          "metadata": {},
          "execution_count": 5
        }
      ]
    },
    {
      "cell_type": "markdown",
      "source": [
        "11001"
      ],
      "metadata": {
        "id": "L61SHkcerIIS"
      }
    },
    {
      "cell_type": "code",
      "source": [
        "bin(-37)"
      ],
      "metadata": {
        "id": "dNxztbGYqpbz",
        "outputId": "65f55e37-1d1e-4dc2-f4e5-5dc40fda44f4",
        "colab": {
          "base_uri": "https://localhost:8080/",
          "height": 36
        }
      },
      "execution_count": 6,
      "outputs": [
        {
          "output_type": "execute_result",
          "data": {
            "text/plain": [
              "'-0b100101'"
            ],
            "application/vnd.google.colaboratory.intrinsic+json": {
              "type": "string"
            }
          },
          "metadata": {},
          "execution_count": 6
        }
      ]
    },
    {
      "cell_type": "markdown",
      "source": [
        "100101"
      ],
      "metadata": {
        "id": "xnyA6ZMXrJrX"
      }
    },
    {
      "cell_type": "markdown",
      "source": [
        "11001 – 100101 = -01100\n",
        "The answer is -12"
      ],
      "metadata": {
        "id": "sH8RS2K0rcu1"
      }
    },
    {
      "cell_type": "markdown",
      "source": [
        "Python holds your hand for a lot of this project. The two's complement tripped me up for a bit but otherwise i think everything looks correct!"
      ],
      "metadata": {
        "id": "07jyZYtMrr5E"
      }
    }
  ]
}