{
  "nbformat": 4,
  "nbformat_minor": 0,
  "metadata": {
    "colab": {
      "provenance": []
    },
    "kernelspec": {
      "name": "python3",
      "display_name": "Python 3"
    }
  },
  "cells": [
    {
      "cell_type": "markdown",
      "metadata": {
        "id": "YCJaepmmfKrS"
      },
      "source": [
        "# Project Part #1 : CPSMA 3913 (Aleksander Jones) <https://github.com/AlekJones>      Discrete Mathematics \n",
        "\n",
        "## Module 1 Sets\n",
        "\n",
        "### Aleksander Jones ID#277882\n",
        "\n",
        "\n"
      ]
    },
    {
      "cell_type": "markdown",
      "metadata": {
        "id": "Xs_Pvtua1Nnt"
      },
      "source": [
        "## 1 Sets"
      ]
    },
    {
      "cell_type": "markdown",
      "metadata": {
        "id": "2z6U1aB_fQDM"
      },
      "source": [
        "For this project I'll be using three sets of NFL quarterbacks HOF (Hall of Fame), Elects (HOF future elects), and Scrubs (self-explanatory)\n",
        "\n"
      ]
    },
    {
      "cell_type": "code",
      "metadata": {
        "id": "rU_BgC_kfH7g"
      },
      "source": [
        "HOF = {'Manning', 'Favre', 'Unitas','Marino', 'Elway'}\n",
        "Elects = {'Brady', 'Brees', 'Rodgers','Roethlisberger','Mahomes'}\n",
        "Scrubs = {'Leaf', 'Russel', 'Manziel', 'Griffin III', 'Lynch'}"
      ],
      "execution_count": null,
      "outputs": []
    },
    {
      "cell_type": "markdown",
      "metadata": {
        "id": "Iggon6VK1Vxo"
      },
      "source": [
        "The universal set for this project is all the NFL quarterbacks. I will include a fourth set called TBD (quarterbacks on the cusp of HOF)."
      ]
    },
    {
      "cell_type": "code",
      "source": [
        "HOF = {'Manning', 'Favre', 'Unitas','Marino', 'Elway'}\n",
        "Elects = {'Brady', 'Brees', 'Rodgers','Roethlisberger','Mahomes'}\n",
        "Scrubs = {'Leaf', 'Russel', 'Manziel', 'Griffin III', 'Lynch'}\n",
        "\n",
        "\n",
        "\n",
        "SetofSets = [HOF, Elects, Scrubs]\n",
        "U = set()\n",
        "for sett in SetofSets:\n",
        "  U = U.union(sett)\n",
        "\n",
        "set(U)"
      ],
      "metadata": {
        "colab": {
          "base_uri": "https://localhost:8080/"
        },
        "id": "IZ1dHQ1TpgV-",
        "outputId": "aa371f2d-6eb0-4141-af30-eb4490f90d32"
      },
      "execution_count": 2,
      "outputs": [
        {
          "output_type": "execute_result",
          "data": {
            "text/plain": [
              "{'Brady',\n",
              " 'Brees',\n",
              " 'Elway',\n",
              " 'Favre',\n",
              " 'Griffin III',\n",
              " 'Leaf',\n",
              " 'Lynch',\n",
              " 'Mahomes',\n",
              " 'Manning',\n",
              " 'Manziel',\n",
              " 'Marino',\n",
              " 'Rodgers',\n",
              " 'Roethlisberger',\n",
              " 'Russel',\n",
              " 'Unitas'}"
            ]
          },
          "metadata": {},
          "execution_count": 2
        }
      ]
    },
    {
      "cell_type": "markdown",
      "source": [
        "Add in the maybes..\n"
      ],
      "metadata": {
        "id": "Tonaoe-QugGw"
      }
    },
    {
      "cell_type": "code",
      "source": [
        "HOF = {'Manning', 'Favre', 'Unitas','Marino', 'Elway'}\n",
        "Elects = {'Brady', 'Brees', 'Rodgers','Roethlisberger','Mahomes'}\n",
        "Scrubs = {'Leaf', 'Russel', 'Manziel', 'Griffin III', 'Lynch'}\n",
        "\n",
        "\n",
        "\n",
        "SetofSets = [HOF, Elects, Scrubs]\n",
        "U = set()\n",
        "for sett in SetofSets:\n",
        "  U = U.union(sett)\n",
        "\n",
        "set(U)\n",
        "\n",
        "TBD = {'Wilson', 'Rivers', 'E. Manning', 'Romo', 'Ryan'}\n",
        "\n",
        "U = U.union(TBD)\n",
        "print(U)"
      ],
      "metadata": {
        "colab": {
          "base_uri": "https://localhost:8080/"
        },
        "id": "2etTSSYCurB1",
        "outputId": "42fd0a58-ea25-453e-9172-0423b6921157"
      },
      "execution_count": 6,
      "outputs": [
        {
          "output_type": "stream",
          "name": "stdout",
          "text": [
            "{'Marino', 'Brees', 'Leaf', 'E. Manning', 'Mahomes', 'Romo', 'Manziel', 'Ryan', 'Favre', 'Wilson', 'Lynch', 'Brady', 'Unitas', 'Elway', 'Griffin III', 'Manning', 'Rivers', 'Roethlisberger', 'Rodgers', 'Russel'}\n"
          ]
        }
      ]
    },
    {
      "cell_type": "markdown",
      "source": [
        "Time to check the intersections and unions of these very uniquely named quarterbacks.. (#edit going to change one to a SCRUB common value after his week 17 performance) "
      ],
      "metadata": {
        "id": "rLTQjrznv76t"
      }
    },
    {
      "cell_type": "code",
      "metadata": {
        "id": "5U5T3Fld5X0S",
        "colab": {
          "base_uri": "https://localhost:8080/"
        },
        "outputId": "306b4095-6e8c-4f20-fe3b-9aa6965f8768"
      },
      "source": [
        "HOF = {'Manning', 'Favre', 'Unitas','Marino', 'Elway'}\n",
        "Elects = {'Brady', 'Brees', 'Rodgers','Roethlisberger','Mahomes'}\n",
        "Scrubs = {'Leaf', 'Russel', 'Manziel', 'Griffin III', 'Rodgers'}\n",
        "\n",
        "\n",
        "\n",
        "SetofSets = [HOF, Elects, Scrubs]\n",
        "U = set()\n",
        "for sett in SetofSets:\n",
        "  U = U.union(sett)\n",
        "\n",
        "set(U)\n",
        "\n",
        "TBD = {'Wilson', 'Rivers', 'E. Manning', 'Romo', 'Ryan'}\n",
        "\n",
        "U = U.union(TBD)\n",
        "\n",
        "print(\"HOF U Elects : \", HOF.union(Elects))\n",
        "print(\"HOF U Scrubs : \", HOF.union(Scrubs))\n",
        "print(\"Scrubs U Elects : \", Scrubs.union(Elects))"
      ],
      "execution_count": 11,
      "outputs": [
        {
          "output_type": "stream",
          "name": "stdout",
          "text": [
            "HOF U Elects :  {'Marino', 'Brees', 'Brady', 'Mahomes', 'Unitas', 'Elway', 'Manning', 'Roethlisberger', 'Rodgers', 'Favre'}\n",
            "HOF U Scrubs :  {'Marino', 'Leaf', 'Unitas', 'Elway', 'Griffin III', 'Manziel', 'Manning', 'Rodgers', 'Favre', 'Russel'}\n",
            "Scrubs U Elects :  {'Brees', 'Brady', 'Leaf', 'Mahomes', 'Griffin III', 'Manziel', 'Roethlisberger', 'Rodgers', 'Russel'}\n"
          ]
        }
      ]
    },
    {
      "cell_type": "code",
      "source": [
        "HOF = {'Manning', 'Favre', 'Unitas','Marino', 'Elway'}\n",
        "Elects = {'Brady', 'Brees', 'Rodgers','Roethlisberger','Mahomes'}\n",
        "Scrubs = {'Leaf', 'Russel', 'Manziel', 'Griffin III', 'Rodgers'}\n",
        "\n",
        "\n",
        "\n",
        "SetofSets = [HOF, Elects, Scrubs]\n",
        "U = set()\n",
        "for sett in SetofSets:\n",
        "  U = U.union(sett)\n",
        "\n",
        "set(U)\n",
        "\n",
        "TBD = {'Wilson', 'Rivers', 'E. Manning', 'Romo', 'Ryan'}\n",
        "\n",
        "U = U.union(TBD)\n",
        "\n",
        "print(\"HOF intersections Elects : \", HOF.intersection(Elects))\n",
        "print(\"HOF intersections Scrubs : \", HOF.intersection(Scrubs))\n",
        "print(\"Scrubs intersections Elects : \", Scrubs.intersection(Elects))"
      ],
      "metadata": {
        "colab": {
          "base_uri": "https://localhost:8080/"
        },
        "id": "8amrKByBvsH5",
        "outputId": "c3ed607a-6b8c-4abe-a194-19196a6531ed"
      },
      "execution_count": 12,
      "outputs": [
        {
          "output_type": "stream",
          "name": "stdout",
          "text": [
            "HOF intersections Elects :  set()\n",
            "HOF intersections Scrubs :  set()\n",
            "Scrubs intersections Elects :  {'Rodgers'}\n"
          ]
        }
      ]
    },
    {
      "cell_type": "markdown",
      "source": [
        "As you can see, Aaron Rodgers, well an obvious HOF elect is also a scrub. I don't see how there is a difference in what set you call first.\n",
        "\n",
        "Moving on to complements."
      ],
      "metadata": {
        "id": "0kdt_CbD0d7f"
      }
    },
    {
      "cell_type": "code",
      "source": [
        "HOF = {'Manning', 'Favre', 'Unitas','Marino', 'Elway'}\n",
        "Elects = {'Brady', 'Brees', 'Rodgers','Roethlisberger','Mahomes'}\n",
        "Scrubs = {'Leaf', 'Russel', 'Manziel', 'Griffin III', 'Rodgers'}\n",
        "\n",
        "\n",
        "\n",
        "SetofSets = [HOF, Elects, Scrubs]\n",
        "U = set()\n",
        "for sett in SetofSets:\n",
        "  U = U.union(sett)\n",
        "\n",
        "set(U)\n",
        "\n",
        "CompHOF = (U - HOF)\n",
        "CompElects = (U - Elects)\n",
        "CompScrubs = (U - Scrubs)\n",
        "CompUnionHOF = CompHOF.intersection(CompElects)\n",
        "CompUnionHOF = CompHOF.intersection(Scrubs)\n",
        "CompUnionElects = CompElects.intersection(Scrubs)\n",
        "\n",
        "print(CompUnionHOF)\n",
        "print(CompUnionElects)"
      ],
      "metadata": {
        "colab": {
          "base_uri": "https://localhost:8080/"
        },
        "id": "QG3742Qk0bGa",
        "outputId": "9bdc7cab-b061-48d6-80b7-0a85ea25de8d"
      },
      "execution_count": 20,
      "outputs": [
        {
          "output_type": "stream",
          "name": "stdout",
          "text": [
            "{'Leaf', 'Griffin III', 'Manziel', 'Rodgers', 'Russel'}\n",
            "{'Griffin III', 'Manziel', 'Leaf', 'Russel'}\n"
          ]
        }
      ]
    },
    {
      "cell_type": "markdown",
      "source": [
        "THERE WE GO! #Not sure if this correct# but gave it the ol heave-ho! \n",
        "There has to be an easier way to do this..\n",
        "\n",
        "E: HOF, Elects and Scrubs are all subsets of the universal set?"
      ],
      "metadata": {
        "id": "PJ32WmDZ6c4a"
      }
    },
    {
      "cell_type": "code",
      "source": [
        "HOF = {'Manning', 'Favre', 'Unitas','Marino', 'Elway'}\n",
        "Elects = {'Brady', 'Brees', 'Rodgers','Roethlisberger','Mahomes'}\n",
        "Scrubs = {'Leaf', 'Russel', 'Manziel', 'Griffin III', 'Rodgers'}\n",
        "\n",
        "\n",
        "\n",
        "SetofSets = [HOF, Elects, Scrubs]\n",
        "U = set()\n",
        "for sett in SetofSets:\n",
        "  U = U.union(sett)\n",
        "\n",
        "set(U)\n",
        "\n",
        "\n",
        "print(HOF.issubset(U))\n",
        "     "
      ],
      "metadata": {
        "colab": {
          "base_uri": "https://localhost:8080/"
        },
        "id": "U7vm4yPS2lbV",
        "outputId": "caf0311b-fca7-4a4a-d43a-5ffce3a770fd"
      },
      "execution_count": 22,
      "outputs": [
        {
          "output_type": "stream",
          "name": "stdout",
          "text": [
            "True\n"
          ]
        }
      ]
    },
    {
      "cell_type": "markdown",
      "source": [
        "Gotta love the prebuilts. Haven't used Python in two years ~ish but it's all coming back slowly.\n",
        "\n",
        "I've never messed around with powersets but I'm game to try."
      ],
      "metadata": {
        "id": "qRn8ZpgA7so2"
      }
    },
    {
      "cell_type": "code",
      "source": [
        "HOF = {'Manning', 'Favre', 'Unitas','Marino', 'Elway'}\n",
        "Elects = {'Brady', 'Brees', 'Rodgers','Roethlisberger','Mahomes'}\n",
        "Scrubs = {'Leaf', 'Russel', 'Manziel', 'Griffin III', 'Rodgers'}\n",
        "\n",
        "\n",
        "\n",
        "SetofSets = [HOF, Elects, Scrubs]\n",
        "U = set()\n",
        "for sett in SetofSets:\n",
        "  U = U.union(sett)\n",
        "\n",
        "set(U)\n",
        "\n",
        "def DPpowerset(s):\n",
        "  powerset = [[]]\n",
        "  for i in s:\n",
        "    for sett in powerset:\n",
        "      powerset = powerset + [sett + [i]]\n",
        "  return powerset\n",
        "\n",
        "print(DPpowerset(HOF))"
      ],
      "metadata": {
        "colab": {
          "base_uri": "https://localhost:8080/"
        },
        "id": "_t4q4ZDH7eOq",
        "outputId": "c88414b8-a82e-42e6-b6a0-3e1948f18f66"
      },
      "execution_count": 23,
      "outputs": [
        {
          "output_type": "stream",
          "name": "stdout",
          "text": [
            "[[], ['Marino'], ['Unitas'], ['Marino', 'Unitas'], ['Elway'], ['Marino', 'Elway'], ['Unitas', 'Elway'], ['Marino', 'Unitas', 'Elway'], ['Manning'], ['Marino', 'Manning'], ['Unitas', 'Manning'], ['Marino', 'Unitas', 'Manning'], ['Elway', 'Manning'], ['Marino', 'Elway', 'Manning'], ['Unitas', 'Elway', 'Manning'], ['Marino', 'Unitas', 'Elway', 'Manning'], ['Favre'], ['Marino', 'Favre'], ['Unitas', 'Favre'], ['Marino', 'Unitas', 'Favre'], ['Elway', 'Favre'], ['Marino', 'Elway', 'Favre'], ['Unitas', 'Elway', 'Favre'], ['Marino', 'Unitas', 'Elway', 'Favre'], ['Manning', 'Favre'], ['Marino', 'Manning', 'Favre'], ['Unitas', 'Manning', 'Favre'], ['Marino', 'Unitas', 'Manning', 'Favre'], ['Elway', 'Manning', 'Favre'], ['Marino', 'Elway', 'Manning', 'Favre'], ['Unitas', 'Elway', 'Manning', 'Favre'], ['Marino', 'Unitas', 'Elway', 'Manning', 'Favre']]\n"
          ]
        }
      ]
    },
    {
      "cell_type": "markdown",
      "source": [
        "The powerset of A has 32(?) elements (hard to count with the UI) but if my assumption is correct the Powerset of U would have 32,768 elements? 32 to the second power for the second set and then that sum to the second power.. I could be way off in left field though with that outrageous number."
      ],
      "metadata": {
        "id": "oU43a3M8-sG5"
      }
    },
    {
      "cell_type": "markdown",
      "source": [
        "A. This exercise was interesting and very insightful! It was great to get my feet wet with Python again. \n",
        "\n",
        "B. I admittedly struggled with the Complements and Superset code sections as they weren't ringing a bell."
      ],
      "metadata": {
        "id": "DqAw8yMH_hs5"
      }
    },
    {
      "cell_type": "code",
      "source": [],
      "metadata": {
        "id": "oxG6gCSy-e93"
      },
      "execution_count": null,
      "outputs": []
    }
  ]
}