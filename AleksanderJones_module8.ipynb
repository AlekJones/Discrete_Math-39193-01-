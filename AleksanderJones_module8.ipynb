{
  "nbformat": 4,
  "nbformat_minor": 0,
  "metadata": {
    "colab": {
      "provenance": [],
      "include_colab_link": true
    },
    "kernelspec": {
      "name": "python3",
      "display_name": "Python 3"
    }
  },
  "cells": [
    {
      "cell_type": "markdown",
      "metadata": {
        "id": "view-in-github",
        "colab_type": "text"
      },
      "source": [
        "<a href=\"https://colab.research.google.com/github/AlekJones/Discrete_Math-39193-01-/blob/main/AleksanderJones_module8.ipynb\" target=\"_parent\"><img src=\"https://colab.research.google.com/assets/colab-badge.svg\" alt=\"Open In Colab\"/></a>"
      ]
    },
    {
      "cell_type": "markdown",
      "metadata": {
        "id": "YCJaepmmfKrS"
      },
      "source": [
        "# Project Part # 8 : CPSMA 3133 [Dr. Jacob's](https://github.com/nurfnick) Discrete Mathematics \n",
        "\n",
        "## Proofs\n",
        "\n",
        "### Aleksander Jones\n",
        "\n",
        "\n"
      ]
    },
    {
      "cell_type": "markdown",
      "metadata": {
        "id": "_7RoPTU_hXG1"
      },
      "source": [
        "## The Proof and Graph"
      ]
    },
    {
      "cell_type": "markdown",
      "metadata": {
        "id": "MMXFYCZ6hajg"
      },
      "source": [
        "I am going to prove that the (0,b) is the y intercept.\n",
        "\n",
        "$y = 6x+6$\n",
        "From looking at this we already know that the y-intercept is $(0,6)$ but lets take a look!"
      ]
    },
    {
      "cell_type": "code",
      "metadata": {
        "id": "5U5T3Fld5X0S",
        "colab": {
          "base_uri": "https://localhost:8080/",
          "height": 265
        },
        "outputId": "3e3bdf13-2616-4f5b-8639-f739aa76d0ff"
      },
      "source": [
        "import matplotlib.pyplot as plt\n",
        "import numpy as np\n",
        "\n",
        "x = np.arange(-6,6,.1) #first value, last value, stepsize = .1\n",
        "\n",
        "plt.plot(x,6*x+6)\n",
        "plt.scatter(0,6, c='yellow',s = 100)\n",
        "plt.show()"
      ],
      "execution_count": 5,
      "outputs": [
        {
          "output_type": "display_data",
          "data": {
            "text/plain": [
              "<Figure size 432x288 with 1 Axes>"
            ],
            "image/png": "[encoded data removed]"
          },
          "metadata": {
            "needs_background": "light"
          }
        }
      ]
    },
    {
      "cell_type": "markdown",
      "metadata": {
        "id": "-4vy_UfzNaBa"
      },
      "source": [
        "Now time to take a look at the proof!\n",
        "\n",
        "So to show that the y-intercept is = b we plug in zero and check if that comes back true.\n",
        "\n"
      ]
    },
    {
      "cell_type": "code",
      "metadata": {
        "colab": {
          "base_uri": "https://localhost:8080/"
        },
        "id": "wMT2FXbQMggt",
        "outputId": "c6c25250-c775-42c7-e1ed-89f6aac310d8"
      },
      "source": [
        "(6*0)+6 == 6"
      ],
      "execution_count": 7,
      "outputs": [
        {
          "output_type": "execute_result",
          "data": {
            "text/plain": [
              "True"
            ]
          },
          "metadata": {},
          "execution_count": 7
        }
      ]
    },
    {
      "cell_type": "markdown",
      "metadata": {
        "id": "8ANGjef_mepA"
      },
      "source": [
        "There we have it!\n",
        "$b=6$\n",
        "and \n",
        "$y=6$"
      ]
    },
    {
      "cell_type": "markdown",
      "source": [
        "This program felt simply weird, but as proofs are not my strong suit hopefully I was on the right track!"
      ],
      "metadata": {
        "id": "8vFuGbNqg3fa"
      }
    }
  ]
}