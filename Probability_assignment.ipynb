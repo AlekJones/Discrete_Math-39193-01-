{
  "nbformat": 4,
  "nbformat_minor": 0,
  "metadata": {
    "colab": {
      "provenance": [],
      "include_colab_link": true
    },
    "kernelspec": {
      "name": "python3",
      "display_name": "Python 3"
    }
  },
  "cells": [
    {
      "cell_type": "markdown",
      "metadata": {
        "id": "view-in-github",
        "colab_type": "text"
      },
      "source": [
        "<a href=\"https://colab.research.google.com/github/AlekJones/Discrete_Math-39193-01-/blob/main/Probability_assignment.ipynb\" target=\"_parent\"><img src=\"https://colab.research.google.com/assets/colab-badge.svg\" alt=\"Open In Colab\"/></a>"
      ]
    },
    {
      "cell_type": "markdown",
      "metadata": {
        "id": "YCJaepmmfKrS"
      },
      "source": [
        "# Project Part # 3: CPSMA 3133 [Dr. Jacob's](https://github.com/nurfnick) Discrete Mathematics \n",
        "\n",
        "## Probability\n",
        "\n",
        "### AleksanderJones\n",
        "\n",
        "\n"
      ]
    },
    {
      "cell_type": "markdown",
      "metadata": {
        "id": "Xs_Pvtua1Nnt"
      },
      "source": [
        "## 1 Probability"
      ]
    },
    {
      "cell_type": "markdown",
      "metadata": {
        "id": "2z6U1aB_fQDM"
      },
      "source": [
        "Just going to make a simple space about baseball consists of single, double, and triple.\n",
        "\n",
        "---\n",
        "\n"
      ]
    },
    {
      "cell_type": "code",
      "metadata": {
        "id": "rU_BgC_kfH7g",
        "colab": {
          "base_uri": "https://localhost:8080/"
        },
        "outputId": "12e18d4d-c374-48e9-e5e4-d488333b23aa"
      },
      "source": [
        "b = [1/3,1/3,1/3]\n",
        "\n",
        "sum(b) \n",
        "\n"
      ],
      "execution_count": null,
      "outputs": [
        {
          "output_type": "execute_result",
          "data": {
            "text/plain": [
              "1.0"
            ]
          },
          "metadata": {},
          "execution_count": 14
        }
      ]
    },
    {
      "cell_type": "markdown",
      "metadata": {
        "id": "Iggon6VK1Vxo"
      },
      "source": [
        "Time for the compound event the at bats in an inning. The oddsof getting one single vs two in an inning with a batting order of 9 players."
      ]
    },
    {
      "cell_type": "code",
      "metadata": {
        "id": "kCHzuVw5vvJ6"
      },
      "source": [
        "ProbabilityR = 0\n",
        "for i in [0,2]:\n",
        "  ProbabityR = ProbabilityR + b[i]\n",
        "\n",
        "  ProbabilityR"
      ],
      "execution_count": null,
      "outputs": []
    },
    {
      "cell_type": "code",
      "source": [
        "turn = [(1/27 * 1/27)]\n",
        "sum(turn)"
      ],
      "metadata": {
        "id": "Y7vTsckcvm4P",
        "outputId": "c407c564-868c-4c7f-8d9c-e9f458df70b0",
        "colab": {
          "base_uri": "https://localhost:8080/"
        }
      },
      "execution_count": null,
      "outputs": [
        {
          "output_type": "execute_result",
          "data": {
            "text/plain": [
              "0.0013717421124828531"
            ]
          },
          "metadata": {},
          "execution_count": 17
        }
      ]
    },
    {
      "cell_type": "markdown",
      "metadata": {
        "id": "-Xx3fefvwTx8"
      },
      "source": [
        "As you can see the odds are very low. Now the odds of getting a single or a double.\n",
        "\n"
      ]
    },
    {
      "cell_type": "code",
      "metadata": {
        "id": "KgmgYzYL7mOr",
        "outputId": "7138fd09-c111-46b2-ec55-1c9e624fa16e",
        "colab": {
          "base_uri": "https://localhost:8080/"
        }
      },
      "source": [
        "hit = [(1/3 + 1/3)]\n",
        "sum(hit)"
      ],
      "execution_count": null,
      "outputs": [
        {
          "output_type": "execute_result",
          "data": {
            "text/plain": [
              "0.6666666666666666"
            ]
          },
          "metadata": {},
          "execution_count": 21
        }
      ]
    },
    {
      "cell_type": "markdown",
      "source": [
        "The probabillity of getting a single and double back to back."
      ],
      "metadata": {
        "id": "kM895Sup0l91"
      }
    },
    {
      "cell_type": "code",
      "source": [
        "b2b = [(1/3 * 1/3)]\n",
        "sum(b2b)"
      ],
      "metadata": {
        "id": "5_lfYxUn0uRQ",
        "outputId": "2de68ec7-1497-4994-9152-cf700a2eea9d",
        "colab": {
          "base_uri": "https://localhost:8080/"
        }
      },
      "execution_count": null,
      "outputs": [
        {
          "output_type": "execute_result",
          "data": {
            "text/plain": [
              "0.1111111111111111"
            ]
          },
          "metadata": {},
          "execution_count": 22
        }
      ]
    }
  ]
}